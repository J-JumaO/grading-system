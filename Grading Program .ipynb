{
 "cells": [
  {
   "cell_type": "code",
   "execution_count": null,
   "id": "54edd407",
   "metadata": {},
   "outputs": [],
   "source": [
    "def calculate_grade(marks):\n",
    "    if 90 <= marks <= 100:\n",
    "        return 'A'\n",
    "    elif 80 <= marks < 90:\n",
    "        return 'B'\n",
    "    elif 70 <= marks < 80:\n",
    "        return 'C'\n",
    "    elif 60 <= marks < 70:\n",
    "        return 'D'\n",
    "    elif 0 <= marks < 60:\n",
    "        return 'F'\n",
    "    else:\n",
    "        return 'Invalid'\n",
    "\n",
    "def main():\n",
    "    while True:\n",
    "        try:\n",
    "            marks = float(input(\"Enter marks (or type 'exit' to terminate): \"))\n",
    "        except ValueError:\n",
    "            print(\"Invalid input. Please enter a valid numerical value.\")\n",
    "            continue\n",
    "        \n",
    "        if marks < 0 or marks > 100:\n",
    "            print(\"Invalid marks. Marks should be between 0 and 100.\")\n",
    "            continue\n",
    "        \n",
    "        if marks == 101:\n",
    "            print(\"Program terminated.\")\n",
    "            break\n",
    "\n",
    "        grade = calculate_grade(marks)\n",
    "        print(f\"Grade: {grade}\\n\")\n",
    "\n",
    "if __name__ == \"__main__\":\n",
    "    main()\n",
    "    \n"
   ]
  },
  {
   "cell_type": "code",
   "execution_count": null,
   "id": "14addc09",
   "metadata": {},
   "outputs": [],
   "source": []
  }
 ],
 "metadata": {
  "kernelspec": {
   "display_name": "Python 3 (ipykernel)",
   "language": "python",
   "name": "python3"
  },
  "language_info": {
   "codemirror_mode": {
    "name": "ipython",
    "version": 3
   },
   "file_extension": ".py",
   "mimetype": "text/x-python",
   "name": "python",
   "nbconvert_exporter": "python",
   "pygments_lexer": "ipython3",
   "version": "3.11.4"
  }
 },
 "nbformat": 4,
 "nbformat_minor": 5
}
